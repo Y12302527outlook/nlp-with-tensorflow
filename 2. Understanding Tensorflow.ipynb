{
 "cells": [
  {
   "cell_type": "markdown",
   "metadata": {},
   "source": [
    "### Implement Sigmoid\n",
    "\n",
    "Following implements $sigmoid(x)\\:=\\: \\frac{1}{1 + e^{-x}}$\n",
    "\n",
    "First create a Graph, which is the recipe for the sequence of operations to perform"
   ]
  },
  {
   "cell_type": "code",
   "execution_count": 1,
   "metadata": {
    "collapsed": true
   },
   "outputs": [],
   "source": [
    "import tensorflow as tf\n",
    "import numpy as np\n",
    "\n",
    "#Can create a Graph as follows\n",
    "#graph = tf.Graph()\n",
    "#or\n",
    "#graph = tf.get_default_graph()"
   ]
  },
  {
   "cell_type": "markdown",
   "metadata": {},
   "source": [
    "Create tensors\n",
    "- x: Placeholder, the variables that we will give at runtime\n",
    "- W and b: mutable tensors, they change with time, say in each iteration, variables need an initializer\n",
    "- h: imutable tensor, produces as a result of some operations on other tensors\n"
   ]
  },
  {
   "cell_type": "code",
   "execution_count": 2,
   "metadata": {},
   "outputs": [
    {
     "name": "stdout",
     "output_type": "stream",
     "text": [
      "shape of h is (?, 5)\n",
      "h_eval is [[ 0.52049112  0.49635988  0.48334688  0.49741691  0.48985034]]\n"
     ]
    }
   ],
   "source": [
    "x = tf.placeholder(shape = [None, 10], name = 'x', dtype = tf.float32)\n",
    "W = tf.Variable(tf.random_uniform(shape = [10, 5], dtype = tf.float32, minval = -0.1, maxval = 0.1), name = 'W')\n",
    "b = tf.Variable(tf.zeros(shape = [5], dtype = tf.float32), name = 'b')\n",
    "h = tf.nn.sigmoid(tf.matmul(x, W) + b)\n",
    "print('shape of h is', h.shape)\n",
    "init = tf.global_variables_initializer()\n",
    "np.random.seed(1234)\n",
    "with tf.Session() as session:\n",
    "    session.run(init)\n",
    "    h_eval = session.run(h, feed_dict = {x: np.random.rand(1, 10)})\n",
    "\n",
    "print('h_eval is', h_eval)"
   ]
  },
  {
   "cell_type": "markdown",
   "metadata": {},
   "source": [
    "\n",
    "Placeholders can also be replaced by preloaded constants where the values do not depend on runtime as follows, note that we dont need ``feed_dict`` in this case as the input is constant\n"
   ]
  },
  {
   "cell_type": "code",
   "execution_count": 3,
   "metadata": {},
   "outputs": [
    {
     "name": "stdout",
     "output_type": "stream",
     "text": [
      "shape if h is (1, 5)\n",
      "h_eval is [[ 0.15896994  0.47830001  0.7322498   0.34032491  0.73249787]]\n"
     ]
    }
   ],
   "source": [
    "c = tf.constant(value = [[1, 2, 3, 4, 5, 6, 7, 8, 9, 10]], dtype= tf.float32)\n",
    "W_c = tf.Variable(tf.random_uniform(shape = [10, 5], dtype = tf.float32, minval = -0.1, maxval = 0.1), name = 'W')\n",
    "b_c = tf.Variable(tf.zeros(shape = [5], dtype = tf.float32), name = 'b')\n",
    "h_c = tf.nn.sigmoid(tf.matmul(c, W) + b)\n",
    "print('shape if h is', h_c.shape)\n",
    "with tf.Session() as session:\n",
    "    tf.global_variables_initializer().run()\n",
    "    h_eval = session.run(h_c)\n",
    "\n",
    "print('h_eval is', h_eval)"
   ]
  },
  {
   "cell_type": "markdown",
   "metadata": {},
   "source": [
    "### Building pipeline\n",
    "\n",
    "We will now source the data from 3 text files files each containing 5 lines with each line being 10 comma seperated float values. First, we will create the files if they don't already exist with sample data and then build a pipeline to read the data from files all the way to loading them into tensors."
   ]
  },
  {
   "cell_type": "code",
   "execution_count": 4,
   "metadata": {
    "collapsed": true
   },
   "outputs": [],
   "source": [
    "def create_sample_if_not_exist(filename, numrows = 5, numcols = 10, seed = None):\n",
    "    import numpy as np\n",
    "    import os\n",
    "    if os.path.exists(filename):\n",
    "        print('File', filename, 'exists, not creating one')\n",
    "    else:\n",
    "        print('Creating', filename)\n",
    "        if seed is not None:\n",
    "            np.random.seed(seed)\n",
    "    \n",
    "        with open(filename, 'w') as f:\n",
    "            for _ in range(numrows):\n",
    "                f.write(\",\".join(np.random.rand(numcols).astype(str).tolist()) + \"\\n\")"
   ]
  },
  {
   "cell_type": "code",
   "execution_count": 5,
   "metadata": {},
   "outputs": [
    {
     "name": "stdout",
     "output_type": "stream",
     "text": [
      "File text1.txt exists, not creating one\n",
      "File text2.txt exists, not creating one\n",
      "File text3.txt exists, not creating one\n"
     ]
    }
   ],
   "source": [
    "filenames = ['text%d.txt'%i for i in range(1, 4)]\n",
    "for filename in filenames:\n",
    "    create_sample_if_not_exist(filename)"
   ]
  },
  {
   "cell_type": "markdown",
   "metadata": {},
   "source": [
    "We will create a string input producer that will peduce tensors holding the string values held in filenames. We shuffle the input and bound the queue to size 3.  "
   ]
  },
  {
   "cell_type": "code",
   "execution_count": 6,
   "metadata": {
    "collapsed": true
   },
   "outputs": [],
   "source": [
    "filename_queue = tf.train.string_input_producer(filenames, capacity = 3, shuffle = True, name = 'str_inp_prod')"
   ]
  },
  {
   "cell_type": "markdown",
   "metadata": {},
   "source": [
    "Once the queue is created, we will initialize a ``TextLineReader`` which will read a line from the text. The read operation returns the values as a key and a value. The key is the name of the file and the value is one line from this file"
   ]
  },
  {
   "cell_type": "code",
   "execution_count": 7,
   "metadata": {},
   "outputs": [],
   "source": [
    "reader = tf.TextLineReader()\n",
    "key, value = reader.read(filename_queue, name = 'text_line_op')"
   ]
  },
  {
   "cell_type": "markdown",
   "metadata": {},
   "source": [
    "Decode csv to read 10 values (which we expect in our csv file). These would be 10 independent tensors, we want these 10 values to become our feature vector"
   ]
  },
  {
   "cell_type": "code",
   "execution_count": 8,
   "metadata": {
    "collapsed": true
   },
   "outputs": [],
   "source": [
    "#Incase of bad line\n",
    "default_record = [[-1.0]] * 10\n",
    "\n",
    "col1, col2, col3, col4, col5, col6, col7, col8, col9, col10 = tf.decode_csv(value, record_defaults = default_record)\n",
    "feature = tf.stack([col1, col2, col3, col4, col5, col6, col7, col8, col9, col10])"
   ]
  },
  {
   "cell_type": "markdown",
   "metadata": {},
   "source": [
    "\n",
    "The variable ``features`` above represents one tensor of size (10, ), representing a single training sample from the input files. We need to read multiple records in batches. Following line allows us to read multiple tensors as a batch. The parameters ``batch_size`` is the mini batch size, capacity is the capacity of the queue containing items, the value ``min_after_dequeue`` represents the number of values to retain in the queue after the dequee operation of the elements in batch. The ``num_threads`` decides how many threads will generate data in parallel.\n",
    "\n",
    "The below setup allows tensor flow read batches of data abstracting the source of real data. The source data will be accessed slowly and can be parallelized to retrieve data asynchronously to the whole training process. The tensor below is our input to the training process"
   ]
  },
  {
   "cell_type": "code",
   "execution_count": 9,
   "metadata": {},
   "outputs": [
    {
     "name": "stdout",
     "output_type": "stream",
     "text": [
      "shape of x is expected to be (<batch_size>, <feature_dimension>) and is (3, 10)\n"
     ]
    }
   ],
   "source": [
    "x = tf.train.shuffle_batch([feature], batch_size = 3, capacity = 5, min_after_dequeue = 1, num_threads = 2)\n",
    "print('shape of x is expected to be (<batch_size>, <feature_dimension>) and is', x.shape)"
   ]
  },
  {
   "cell_type": "code",
   "execution_count": 10,
   "metadata": {},
   "outputs": [
    {
     "name": "stdout",
     "output_type": "stream",
     "text": [
      "================ Step 0 ================\n",
      "Evaluated data (x)\n",
      "[[ 0.72665846  0.90008783  0.77916378  0.59915477  0.29112524  0.15139526\n",
      "   0.33517465  0.65755177  0.07334255  0.0550064 ]\n",
      " [ 0.32570741  0.19361869  0.45781165  0.92040259  0.87906915  0.25261575\n",
      "   0.34800878  0.18258873  0.90179604  0.70652819]\n",
      " [ 0.00934857  0.90064859  0.97724146  0.55689466  0.08477385  0.33300248\n",
      "   0.72842866  0.14243537  0.55246896  0.27304325]]\n",
      "Evaluated data (h)\n",
      "[[ 0.49464947  0.52583575  0.50423062  0.49881858  0.50255448]\n",
      " [ 0.45626062  0.53781515  0.50380903  0.49873108  0.51279169]\n",
      " [ 0.48437965  0.51267284  0.50956738  0.50125998  0.52063322]]\n",
      "================ Step 1 ================\n",
      "Evaluated data (x)\n",
      "[[ 0.73852307  0.58730364  0.47163254  0.10712682  0.22921857  0.89996517\n",
      "   0.41675353  0.53585166  0.00620852  0.30064172]\n",
      " [ 0.97449511  0.6677869   0.25565329  0.1083115   0.77618074  0.78247797\n",
      "   0.76160389  0.91440314  0.6586228   0.5683676 ]\n",
      " [ 0.28525096  0.62491673  0.4780938   0.19567518  0.38231745  0.05387368\n",
      "   0.45164841  0.98200476  0.1239427   0.1193809 ]]\n",
      "Evaluated data (h)\n",
      "[[ 0.48740679  0.5114727   0.47919163  0.48941806  0.51768267]\n",
      " [ 0.4787634   0.52715385  0.45991099  0.48764285  0.51501095]\n",
      " [ 0.49576637  0.528705    0.4875924   0.49622399  0.4964214 ]]\n",
      "================ Step 2 ================\n",
      "Evaluated data (x)\n",
      "[[ 0.76711661  0.70811534  0.79686719  0.55776083  0.96583652  0.14715689\n",
      "   0.029647    0.59389347  0.1140657   0.95080984]\n",
      " [ 0.3231948   0.59048182  0.85389858  0.28706244  0.17306723  0.13402121\n",
      "   0.99465382  0.17949787  0.31754681  0.56829143]\n",
      " [ 0.20175569  0.69829637  0.95219541  0.88996327  0.99356735  0.81870353\n",
      "   0.54512215  0.45125407  0.89055717  0.97326481]]\n",
      "Evaluated data (h)\n",
      "[[ 0.48079729  0.56729758  0.5202027   0.49912107  0.50821394]\n",
      " [ 0.4938539   0.51394266  0.5016948   0.48978207  0.5077973 ]\n",
      " [ 0.44648626  0.55200016  0.5031116   0.49865288  0.53150308]]\n",
      "================ Step 3 ================\n",
      "Evaluated data (x)\n",
      "[[ 0.15257278  0.56840962  0.52822429  0.95142877  0.48035917  0.50255954\n",
      "   0.53687817  0.81920207  0.05711564  0.66942173]\n",
      " [ 0.62277657  0.49368265  0.84053773  0.71209699  0.44390899  0.03103486\n",
      "   0.36323977  0.73072177  0.47556657  0.34441698]\n",
      " [ 0.59341133  0.3660745   0.3230947   0.87142324  0.21563406  0.73494518\n",
      "   0.36561909  0.8016026   0.78273559  0.7013554 ]]\n",
      "Evaluated data (h)\n",
      "[[ 0.46881101  0.53225631  0.49617651  0.47402939  0.50444293]\n",
      " [ 0.48164308  0.5401004   0.50317633  0.50206321  0.50215185]\n",
      " [ 0.46698663  0.52720034  0.47983578  0.48141068  0.51741242]]\n",
      "================ Step 4 ================\n",
      "Evaluated data (x)\n",
      "[[ 0.32570741  0.19361869  0.45781165  0.92040259  0.87906915  0.25261575\n",
      "   0.34800878  0.18258873  0.90179604  0.70652819]\n",
      " [ 0.43689317  0.612149    0.91819805  0.62573665  0.70599759  0.14983371\n",
      "   0.74606341  0.831007    0.63372576  0.43830988]\n",
      " [ 0.97903883  0.88123226  0.62768191  0.93048656  0.72478998  0.7166779\n",
      "   0.04107857  0.43948177  0.28206977  0.33499596]]\n",
      "Evaluated data (h)\n",
      "[[ 0.45626062  0.53781515  0.50380903  0.49873108  0.51279169]\n",
      " [ 0.4739182   0.54174566  0.49405295  0.5002737   0.50511128]\n",
      " [ 0.46897835  0.53429425  0.50381672  0.49775097  0.51867723]]\n"
     ]
    }
   ],
   "source": [
    "#Define the sigmoid operation again\n",
    "\n",
    "W = tf.Variable(tf.random_uniform(shape = (10, 5), minval = -0.1, maxval = 0.1, dtype = tf.float32), name = 'W')\n",
    "b = tf.Variable(tf.zeros(shape = (5, )), dtype = tf.float32, name = 'b')\n",
    "h = tf.nn.sigmoid(tf.matmul(x, W) + b)\n",
    "with tf.Session() as session:\n",
    "    coord = tf.train.Coordinator()\n",
    "    threads = tf.train.start_queue_runners(coord = coord, sess = session)\n",
    "    tf.global_variables_initializer().run()\n",
    "    \n",
    "    for step in range(5):\n",
    "        x_eval, h_eval = session.run([x, h])\n",
    "        print('================ Step %d ================'%step)\n",
    "        print('Evaluated data (x)')\n",
    "        print(x_eval)\n",
    "        print('Evaluated data (h)')\n",
    "        print(h_eval)\n",
    "    \n",
    "    #Request all threads to stop processing\n",
    "    coord.request_stop()\n",
    "    #Wait for all threads to gracefully stop, not needed in a notebook environment\n",
    "    coord.join(threads)"
   ]
  },
  {
   "cell_type": "markdown",
   "metadata": {},
   "source": [
    "#### Defining Variables in tensorflow\n",
    "\n",
    "Following code snippet shows difference between ``tf.Variable`` and ``tf.constant``. variable can be assigned new value but a constant cannot be"
   ]
  },
  {
   "cell_type": "code",
   "execution_count": 22,
   "metadata": {},
   "outputs": [
    {
     "name": "stdout",
     "output_type": "stream",
     "text": [
      "Caught Exception,  'Tensor' object has no attribute 'assign'\n",
      "[variable, constant] is [10, 0]\n"
     ]
    }
   ],
   "source": [
    "variable = tf.Variable(0, dtype = tf.int32)\n",
    "constant = tf.constant(0, dtype = tf.int32)\n",
    "variable = tf.assign(variable, variable + 10)\n",
    "try:\n",
    "    tf.assign(constant, constant + 10)\n",
    "except Exception as e:\n",
    "    print('Caught Exception, ', e)\n",
    "    \n",
    "with tf.Session() as session:\n",
    "    tf.global_variables_initializer().run()\n",
    "    print('[variable, constant] is', session.run([variable, constant]))"
   ]
  },
  {
   "cell_type": "markdown",
   "metadata": {},
   "source": [
    "Casting the variable type is as follows"
   ]
  },
  {
   "cell_type": "code",
   "execution_count": 25,
   "metadata": {},
   "outputs": [
    {
     "name": "stdout",
     "output_type": "stream",
     "text": [
      "variable.dtype is <dtype: 'int32_ref'> , variable_float32.dtype is <dtype: 'float32'>\n"
     ]
    }
   ],
   "source": [
    "variable_float32 = tf.cast(variable, dtype = tf.float32)\n",
    "print('variable.dtype is', variable.dtype, ', variable_float32.dtype is', variable_float32.dtype)\n"
   ]
  },
  {
   "cell_type": "markdown",
   "metadata": {},
   "source": [
    "Initializers for variables work as follows (note the difference in constant_initialized). "
   ]
  },
  {
   "cell_type": "code",
   "execution_count": 58,
   "metadata": {},
   "outputs": [
    {
     "name": "stdout",
     "output_type": "stream",
     "text": [
      "constant_initialized [[ 2.  2.]\n",
      " [ 2.  2.]]\n",
      "zero_initialized [[ 0.  0.  0.]\n",
      " [ 0.  0.  0.]\n",
      " [ 0.  0.  0.]]\n",
      "truncated_norm_initialized [[ 0.13495584  0.04675447 -1.77191257]\n",
      " [ 1.35239267 -1.58421326 -0.45300278]\n",
      " [ 0.43457615 -1.06277609 -0.2075759 ]]\n",
      "mean of truncated_normal is 0.000168789\n"
     ]
    }
   ],
   "source": [
    "tf.reset_default_graph()\n",
    "constant_initialized = tf.get_variable(initializer = tf.constant_initializer(2),  shape = [2, 2], \n",
    "                                   name = 'const_init', \n",
    "                                   dtype = tf.float32)\n",
    "\n",
    "zero_initialized = tf.Variable(tf.zeros(shape = [3, 3], dtype = tf.float32), name = 'zeros')\n",
    "random_initialized = tf.Variable(tf.random_uniform(shape = [3, 3], dtype = tf.float32), name = 'rand_init')\n",
    "#Truncated normal drops all values 2 std away from mean and re-picks them\n",
    "truncated_norm_initialized = tf.Variable(tf.truncated_normal(shape =[3, 3], dtype = tf.float32), name = 'tn')\n",
    "large_truncated_norm_initialized = tf.Variable(tf.truncated_normal(shape =[5000, 5000], dtype = tf.float32), \n",
    "                                               name = 'large_tn')\n",
    "\n",
    "with tf.Session() as session:\n",
    "    tf.global_variables_initializer().run()\n",
    "    print('constant_initialized', session.run(constant_initialized))\n",
    "    print('zero_initialized', session.run(zero_initialized))\n",
    "    print('truncated_norm_initialized', session.run(truncated_norm_initialized))\n",
    "    print('mean of truncated_normal is', session.run(tf.reduce_mean(large_truncated_norm_initialized)))\n"
   ]
  },
  {
   "cell_type": "markdown",
   "metadata": {},
   "source": [
    "#### Comparison operations in Tensorflow"
   ]
  },
  {
   "cell_type": "code",
   "execution_count": 66,
   "metadata": {},
   "outputs": [
    {
     "name": "stdout",
     "output_type": "stream",
     "text": [
      "is_equal [[False False]\n",
      " [ True False]]\n",
      "is_less [[ True  True]\n",
      " [False False]]\n",
      "greater_or_equal [[False False]\n",
      " [ True  True]]\n",
      "max_valued [[4 3]\n",
      " [3 4]]\n"
     ]
    }
   ],
   "source": [
    "x = tf.constant([[1, 2], [3, 4]], dtype = tf.int32)\n",
    "y = tf.constant([[4, 3], [3, 2]], dtype = tf.int32)\n",
    "\n",
    "#Element wise equality, x == y\n",
    "is_equal = tf.equal(x, y)\n",
    "\n",
    "#Element wise less than x < y (similarly we have greater)\n",
    "is_less = tf.less(x, y)\n",
    "\n",
    "#Element wise greater than or equal to (similarly we have less_equal)\n",
    "greater_or_equal = tf.greater_equal(x, y)\n",
    "\n",
    "#Conditional select, takes the form (mask, x, y). If element of mask is true, take from x else y\n",
    "\n",
    "max_valued = tf.where(greater_or_equal, x, y)\n",
    "\n",
    "with tf.Session() as session:\n",
    "    tf.global_variables_initializer().run()\n",
    "    print('is_equal', session.run(is_equal))\n",
    "    print('is_less', session.run(is_less))\n",
    "    print('greater_or_equal', session.run(greater_or_equal))\n",
    "    print('max_valued', session.run(max_valued))"
   ]
  },
  {
   "cell_type": "markdown",
   "metadata": {},
   "source": [
    "#### Following are some mathematical operations"
   ]
  },
  {
   "cell_type": "code",
   "execution_count": 85,
   "metadata": {},
   "outputs": [
    {
     "name": "stdout",
     "output_type": "stream",
     "text": [
      "x_add_y [[5 5]\n",
      " [6 6]]\n",
      "x_mul_y [[10  7]\n",
      " [24 17]]\n",
      "log_x [[ 0.          0.69314718]\n",
      " [ 1.09861231  1.38629436]]\n",
      "all_sum 10\n",
      "sum_all_rows [4 6] , shape is (2,)\n",
      "sum_all_cols [3 7] , shape is (2,)\n",
      "sum_rows_retain_dims [[4 6]] , shape is (1, 2)\n",
      "sum_cols_retain_dims [[3]\n",
      " [7]] , shape is (2, 1)\n",
      "seg_sum [ 6  9 40]\n"
     ]
    }
   ],
   "source": [
    "#Element wise addition\n",
    "x_add_y = tf.add(x, y)\n",
    "\n",
    "#matrix multiplication\n",
    "x_mul_y = tf.matmul(x, y)\n",
    "\n",
    "#Take natural log, log operation requires type to be float16, float32, float64, complex64, complex128\n",
    "log_x = tf.log(tf.cast(x, tf.float32))\n",
    "\n",
    "#sum all elements to give a scalar\n",
    "all_sum = tf.reduce_sum(x)\n",
    "\n",
    "#Sum across a specific dimension\n",
    "sum_all_rows = tf.reduce_sum(x, axis = 0)\n",
    "\n",
    "sum_all_cols = tf.reduce_sum(x, axis = 1)\n",
    "\n",
    "#Sum across a specific dimension retaining the dimensionality\n",
    "sum_rows_retain_dims = tf.reduce_sum(x, axis = 0, keep_dims = True)\n",
    "\n",
    "sum_cols_retain_dims = tf.reduce_sum(x, axis = 1, keep_dims = True)\n",
    "\n",
    "#sum, grouped by segments, segments expected to have same length as the range to sum on\n",
    "range_const = tf.constant(np.arange(1, 11), dtype = tf.int32, name = 'range')\n",
    "segments = tf.constant([0, 0, 0, 1, 1, 2, 2, 2, 2, 2], dtype = tf.int32, name = 'segments')\n",
    "seg_sum = tf.segment_sum(range_const, segments)\n",
    "\n",
    "with tf.Session() as session:\n",
    "    tf.global_variables_initializer().run()\n",
    "    print('x_add_y', session.run(x_add_y))\n",
    "    print('x_mul_y', session.run(x_mul_y))\n",
    "    print('log_x', session.run(log_x))\n",
    "    print('all_sum', session.run(all_sum))\n",
    "    print('sum_all_rows', session.run(sum_all_rows), ', shape is', sum_all_rows.shape)\n",
    "    print('sum_all_cols', session.run(sum_all_cols), ', shape is', sum_all_cols.shape)\n",
    "    print('sum_rows_retain_dims', session.run(sum_rows_retain_dims), ', shape is', sum_rows_retain_dims.shape)\n",
    "    print('sum_cols_retain_dims', session.run(sum_cols_retain_dims), ', shape is', sum_cols_retain_dims.shape)\n",
    "    print('seg_sum', session.run(seg_sum))\n",
    "    \n",
    "    \n",
    "    "
   ]
  },
  {
   "cell_type": "markdown",
   "metadata": {},
   "source": [
    "\n",
    "#### Scatter Gather operations\n",
    "\n",
    "We cannot slice a tensor as we would slice a numpy array as ``a[10, 12]`` or ``a[:, 1:3]`` etc. Similarly we cannot selectively set the values of a tensor using the index. Scatter gather operations let us set and get values at specified indices respectively of the tensor."
   ]
  },
  {
   "cell_type": "code",
   "execution_count": 104,
   "metadata": {},
   "outputs": [
    {
     "name": "stdout",
     "output_type": "stream",
     "text": [
      "input 1D tensor is [ 0.  1.  2.  3.  4.  5.  6.  7.  8.  9.]\n",
      "updated 1D tensor is [  0.   1.   2.  99.  99.  99.   6.   7.   8.   9.]\n",
      "scatter_nd_1, [[ 0.  0.  0.]\n",
      " [ 1.  2.  3.]\n",
      " [ 0.  0.  0.]\n",
      " [ 4.  5.  6.]] , dtype, <dtype: 'float32'>\n",
      "scatter_nd_2, [[0 0 0 0]\n",
      " [0 0 0 1]\n",
      " [0 0 2 0]] , dtype, <dtype: 'int32'>\n"
     ]
    }
   ],
   "source": [
    "#1D scatter operation\n",
    "#The variable to be updated\n",
    "ref = tf.Variable(np.arange(10), dtype = tf.float32, name = 'ref')\n",
    "\n",
    "#Index position to update\n",
    "idx = tf.constant([3, 4, 5], dtype = tf.int32, name = 'idx')\n",
    "update_val = tf.constant([99, 99, 99], dtype = tf.float32, name = 'updated_value')\n",
    "updated = tf.scatter_update(ref, idx, update_val)\n",
    "\n",
    "#Scatter multidimensional.\n",
    "# Initialized to 0 (for both int and float) for numeric values and empty for string\n",
    "index = [[1], [3]] #Row number\n",
    "values = [[1.0, 2.0, 3.0], [4.0, 5.0, 6.0]]\n",
    "scatter_nd_1 = tf.scatter_nd(index, values, shape = [4, 3])\n",
    "\n",
    "#Anothet example by using both dimensions\n",
    "index = [[1, 3], [2, 2]] #Row and column\n",
    "values = [1, 2]\n",
    "scatter_nd_2 = tf.scatter_nd(index, values, shape = [3, 4])\n",
    "\n",
    "with tf.Session() as session:\n",
    "    tf.global_variables_initializer().run()\n",
    "    print('input 1D tensor is', session.run(ref))\n",
    "    print('updated 1D tensor is', session.run(updated))\n",
    "    print('scatter_nd_1,', session.run(scatter_nd_1), ', dtype,', scatter_nd_1.dtype)\n",
    "    print('scatter_nd_2,', session.run(scatter_nd_2), ', dtype,', scatter_nd_2.dtype)\n",
    "    \n"
   ]
  },
  {
   "cell_type": "markdown",
   "metadata": {},
   "source": [
    "Similarly, following are the gather operations"
   ]
  },
  {
   "cell_type": "code",
   "execution_count": 108,
   "metadata": {},
   "outputs": [
    {
     "name": "stdout",
     "output_type": "stream",
     "text": [
      "slice1d, [1 6]\n",
      "slice2d, [[ 4  5  6]\n",
      " [10 11 12]]\n",
      "slice2d_2, [ 6 11]\n"
     ]
    }
   ],
   "source": [
    "\n",
    "# 1 D slice\n",
    "values = tf.constant(np.arange(10), name = '1d')\n",
    "index = [1, 6]\n",
    "slice1d = tf.gather(values, index)\n",
    "\n",
    "#ND slice\n",
    "values = tf.constant([[1, 2, 3], [4, 5, 6], [7, 8, 9], [10, 11, 12]])\n",
    "index = [[1], [3]]  #Rows\n",
    "slice2d = tf.gather_nd(values, index)\n",
    "\n",
    "#ND Slice, [row, col]\n",
    "index = [[1, 2], [3, 1]]  #[Row, col]\n",
    "slice2d_2 = tf.gather_nd(values, index)\n",
    "\n",
    "with tf.Session() as session:\n",
    "    tf.global_variables_initializer().run()\n",
    "    print('slice1d,', session.run(slice1d))\n",
    "    print('slice2d,', session.run(slice2d))\n",
    "    print('slice2d_2,', session.run(slice2d_2))"
   ]
  },
  {
   "cell_type": "markdown",
   "metadata": {},
   "source": [
    "#### Convolution operation.\n",
    "\n",
    "We will use the following image taken from [this][1] wiki page\n",
    "\n",
    "![Image](input_image.png)\n",
    "\n",
    "and apply convolution operation, specifically we will use the kernel\n",
    "\n",
    "$\n",
    "\\begin{bmatrix}\n",
    "-1 & -1 &-1\\\\\n",
    "-1 & 8 &-1\\\\\n",
    "-1 & -1 &-1\\\\\n",
    "\\end{bmatrix}\n",
    "$\n",
    "\n",
    "for edge detection\n",
    "\n",
    "[1]:https://en.wikipedia.org/wiki/Kernel_(image_processing)"
   ]
  },
  {
   "cell_type": "code",
   "execution_count": 163,
   "metadata": {},
   "outputs": [
    {
     "data": {
      "image/png": "[encoded data removed]",
      "text/plain": [
       "<matplotlib.figure.Figure at 0x137209a90>"
      ]
     },
     "metadata": {},
     "output_type": "display_data"
    }
   ],
   "source": [
    "%matplotlib inline\n",
    "import matplotlib.pyplot as plt\n",
    "\n",
    "from PIL import Image\n",
    "image = np.array(Image.open('input_image.png'))\n",
    "\n",
    "#4D [batch_size, height, width, channels]\n",
    "image_tensor = tf.constant(image.reshape(1, *image.shape), dtype = tf.float32)\n",
    "\n",
    "arr = np.array([[-1, -1, -1], [-1, 8, -1], [-1, -1, -1]])\n",
    "kernel = np.array([arr, arr, arr]).reshape(3, 3, 3, 1)\n",
    "\n",
    "#4D [height, width, input_channels, output_channels]\n",
    "kernel_tensor = tf.constant(kernel, tf.float32)\n",
    "\n",
    "#strides = [batch_stride, height_stride, width_stride, channels_stride]\n",
    "#padding, 'SAME' for padding, 'VALID' for no padding\n",
    "conv_op = tf.nn.conv2d(image_tensor, kernel_tensor, strides = [1, 1, 1, 1], padding = 'VALID')\n",
    "\n",
    "with tf.Session() as session:\n",
    "    conv_image = session.run(conv_op)[0]\n",
    "    \n",
    "conv_shape = conv_image.shape\n",
    "conv_image = conv_image.reshape((conv_shape[0], conv_shape[1]))\n",
    "conv_image[conv_image < 0] = 0\n",
    "plt.axis('Off')\n",
    "plt.imshow(conv_image, cmap = 'gray')\n",
    "plt.show()"
   ]
  },
  {
   "cell_type": "code",
   "execution_count": null,
   "metadata": {
    "collapsed": true
   },
   "outputs": [],
   "source": []
  }
 ],
 "metadata": {
  "kernelspec": {
   "display_name": "Python 3",
   "language": "python",
   "name": "python3"
  },
  "language_info": {
   "codemirror_mode": {
    "name": "ipython",
    "version": 3
   },
   "file_extension": ".py",
   "mimetype": "text/x-python",
   "name": "python",
   "nbconvert_exporter": "python",
   "pygments_lexer": "ipython3",
   "version": "3.6.1"
  }
 },
 "nbformat": 4,
 "nbformat_minor": 2
}
